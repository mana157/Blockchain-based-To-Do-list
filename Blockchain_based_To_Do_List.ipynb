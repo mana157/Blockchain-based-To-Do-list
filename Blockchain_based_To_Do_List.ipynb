{
  "nbformat": 4,
  "nbformat_minor": 0,
  "metadata": {
    "colab": {
      "provenance": []
    },
    "kernelspec": {
      "name": "python3",
      "display_name": "Python 3"
    },
    "language_info": {
      "name": "python"
    }
  },
  "cells": [
    {
      "cell_type": "markdown",
      "source": [
        "## Blockchain-based To-Do List\n",
        "\n",
        "Store tasks as transactions in a simple blockchain.\n",
        "\n",
        "Each task completion is a new block added.\n",
        "\n",
        "Helps you understand block creation and chaining."
      ],
      "metadata": {
        "id": "ybNClF8aNEV_"
      }
    },
    {
      "cell_type": "code",
      "execution_count": 1,
      "metadata": {
        "id": "dJl4IBqe31rQ"
      },
      "outputs": [],
      "source": [
        "import hashlib\n",
        "import time"
      ]
    },
    {
      "cell_type": "code",
      "source": [
        "# Define a Block structure\n",
        "class Block:\n",
        "    def __init__(self, index, timestamp, task, previous_hash):\n",
        "        self.index = index\n",
        "        self.timestamp = timestamp\n",
        "        self.task = task\n",
        "        self.previous_hash = previous_hash\n",
        "        self.hash = self.calculate_hash()\n",
        "\n",
        "    def calculate_hash(self):\n",
        "        block_string = str(self.index) + str(self.timestamp) + self.task + self.previous_hash\n",
        "        return hashlib.sha256(block_string.encode()).hexdigest()"
      ],
      "metadata": {
        "id": "c4I-eRZtNNE3"
      },
      "execution_count": 2,
      "outputs": []
    },
    {
      "cell_type": "code",
      "source": [
        "# Blockchain class to store tasks\n",
        "class Blockchain:\n",
        "    def __init__(self):\n",
        "        self.chain = [self.create_genesis_block()]\n",
        "\n",
        "    def create_genesis_block(self):\n",
        "        return Block(0, time.ctime(), \"Genesis Block (Start To-Do List)\", \"0\")\n",
        "\n",
        "    def get_latest_block(self):\n",
        "        return self.chain[-1]\n",
        "\n",
        "    def add_task(self, task):\n",
        "        new_block = Block(\n",
        "            len(self.chain),\n",
        "            time.ctime(),\n",
        "            task,\n",
        "            self.get_latest_block().hash\n",
        "        )\n",
        "        self.chain.append(new_block)\n",
        "\n",
        "    def display_chain(self):\n",
        "        for block in self.chain:\n",
        "            print(f\"Index: {block.index}\")\n",
        "            print(f\"Timestamp: {block.timestamp}\")\n",
        "            print(f\"Task: {block.task}\")\n",
        "            print(f\"Hash: {block.hash}\")\n",
        "            print(f\"Previous Hash: {block.previous_hash}\\n\")"
      ],
      "metadata": {
        "id": "8OpwmyEgNNys"
      },
      "execution_count": 3,
      "outputs": []
    },
    {
      "cell_type": "code",
      "source": [
        "# Example\n",
        "if __name__ == \"__main__\":\n",
        "    todo_chain = Blockchain()\n",
        "\n",
        "    # Add tasks\n",
        "    todo_chain.add_task(\"Buy groceries\")\n",
        "    todo_chain.add_task(\"Finish assignment\")\n",
        "    todo_chain.add_task(\"Call friend\")"
      ],
      "metadata": {
        "id": "O4NSYdUWNRcq"
      },
      "execution_count": 4,
      "outputs": []
    },
    {
      "cell_type": "code",
      "source": [
        "    # Display the blockchain of tasks\n",
        "    todo_chain.display_chain()"
      ],
      "metadata": {
        "colab": {
          "base_uri": "https://localhost:8080/"
        },
        "id": "2ticUeHRNaBf",
        "outputId": "f7a88989-6953-493e-9a90-facc13d7d580"
      },
      "execution_count": 5,
      "outputs": [
        {
          "output_type": "stream",
          "name": "stdout",
          "text": [
            "Index: 0\n",
            "Timestamp: Tue Aug 19 12:02:22 2025\n",
            "Task: Genesis Block (Start To-Do List)\n",
            "Hash: 73fc23c2f0123d01b80e5d31273dd47f7406dc4944941f756a7e37b33c1c188e\n",
            "Previous Hash: 0\n",
            "\n",
            "Index: 1\n",
            "Timestamp: Tue Aug 19 12:02:22 2025\n",
            "Task: Buy groceries\n",
            "Hash: 7b965e162ea85011e462da258a51c20c2d5413c796d81be3226f832f2f4c7482\n",
            "Previous Hash: 73fc23c2f0123d01b80e5d31273dd47f7406dc4944941f756a7e37b33c1c188e\n",
            "\n",
            "Index: 2\n",
            "Timestamp: Tue Aug 19 12:02:22 2025\n",
            "Task: Finish assignment\n",
            "Hash: b5b1d91064450f4539e2300467799068a753399c153f43b0a717f05c7c7a8c7b\n",
            "Previous Hash: 7b965e162ea85011e462da258a51c20c2d5413c796d81be3226f832f2f4c7482\n",
            "\n",
            "Index: 3\n",
            "Timestamp: Tue Aug 19 12:02:22 2025\n",
            "Task: Call friend\n",
            "Hash: df25c2f68a0f8f078a9c71de04dc99cb5d3f2afa34a383c04817dca71c579ac0\n",
            "Previous Hash: b5b1d91064450f4539e2300467799068a753399c153f43b0a717f05c7c7a8c7b\n",
            "\n"
          ]
        }
      ]
    }
  ]
}